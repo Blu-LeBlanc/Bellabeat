# %% [code]
# %% [markdown]
# **1. Introduction**

# %% [markdown]
# Questions for Analysis: 
#     1. What are some trends in smart device usage?
#     2. How could these trends apply to bellabeat customers
#     3. How could these trends help influence bellabeat marketing strategy
#
# Summary: Examining FitBit Fitness Tracker Data to idetnify trends that lead to actionable insight for Bellabeat marketing
# 
# Dataset: Made available through Möbius, 30 individuals consented to collection of personal FitBit data from 3/12/2016 - 5/12/2016
#     * Notes: 30 individuals is big limitation, too small of sample size
# Stored in 18 csv files
#
# Process: 
# Using R for entire Processing and Analyzing portion
# 

# %% [code] {"execution":{"iopub.status.busy":"2024-03-05T00:59:55.031225Z","iopub.execute_input":"2024-03-05T00:59:55.032723Z","iopub.status.idle":"2024-03-05T00:59:55.054880Z"}}
#Loading Packages
library(tidyverse)
library(lubridate)
library(readr)
library(skimr)
library(janitor)
library(dplyr)
library(ggplot2)

# %% [code] {"execution":{"iopub.status.busy":"2024-03-05T00:59:55.058998Z","iopub.execute_input":"2024-03-05T00:59:55.060570Z","iopub.status.idle":"2024-03-05T00:59:55.229765Z"}}
#Uploading Datasets into Data Frames
daily_activity_df <- read_csv("/kaggle/input/fitbit-data-filtered/dailyActivity_merged.csv")
sleep_day_df <- read_csv("/kaggle/input/fitbit-data-filtered/sleepDay_merged.csv")


# %% [code] {"execution":{"iopub.status.busy":"2024-03-05T00:59:55.233313Z","iopub.execute_input":"2024-03-05T00:59:55.234800Z","iopub.status.idle":"2024-03-05T00:59:55.941351Z"}}
#Viewing DataFrames
skim_without_charts(daily_activity_df)
str(daily_activity_df)

skim_without_charts(sleep_day_df)
str(sleep_day_df)

# %% [markdown]
# Cleaning the Datasets:
# 
#     1. Formatting Date Columns in dataset

# %% [code] {"execution":{"iopub.status.busy":"2024-03-05T00:59:55.944001Z","iopub.execute_input":"2024-03-05T00:59:55.951105Z","iopub.status.idle":"2024-03-05T00:59:56.074884Z"}}

#Convert ActivityDate info into format 'mm/dd/yyyy'
daily_activity_df$ActivityDate <- as.Date(daily_activity_df$ActivityDate, format = "%m/%d/%Y")

#Convert SleepDate to Date format
sleep_day_df$SleepDay <- as.Date(sleep_day_df$SleepDay, format = "%m/%d/%Y")

#Change ID in both tables to varchar for unique ID
daily_activity_df$Id <- as.character(daily_activity_df$Id)
sleep_day_df$Id <- as.character(sleep_day_df$Id)

#Check distinct values 
n_distinct(daily_activity_df$Id)
n_distinct(sleep_day_df$Id)

head(daily_activity_df)
str(daily_activity_df)

head(sleep_day_df)
str(sleep_day_df)

# %% [code] {"execution":{"iopub.status.busy":"2024-03-05T00:59:56.077503Z","iopub.execute_input":"2024-03-05T00:59:56.078904Z","iopub.status.idle":"2024-03-05T00:59:56.157841Z"}}
#Checking summaries of different columns in dataframes
daily_activity_df %>% select(TotalSteps) %>% summary()
daily_activity_df %>% select(SedentaryMinutes) %>% summary()
daily_activity_df %>% select(LightlyActiveMinutes) %>% summary()
daily_activity_df %>% select(VeryActiveMinutes) %>% summary()
daily_activity_df %>% select(Calories) %>% summary()

sleep_day_df %>% select(TotalMinutesAsleep) %>% summary()
sleep_day_df %>% select(TotalTimeInBed) %>% summary()

# %% [markdown]
# Insights from summary
# Total Steps: 
# Median - 7406 steps
# Mean - 7638
# Larger mean than median could indicate portion of high volume steps skewing average.
# Wide range of steps taken from 0 to 36019
# Median of 7406 shows that the participants are moderately active as a whole
# 
# Sedentary Minutes: 
# Range between 0 and 1440 (1440 is 24 hrs of sedentary). Low amount of sedentary minutes as a whole. 
# Median larger than mean
# 0 sedentary minutes is impossible - bad data collection in that case
# Median - 1057.5 min is 17.625 hrs of little to no movement. Unhealthy amount of sedentary minutes
# 
# VeryActiveMinutes:
# Median - 4 min
# Mean - 21.6 min
# Max - 210 min
# Very concerning amount of very active minutes. With mean substantially above the median, most participants are very active for under 10 minutes, with maximum value and a few participants significantly altering the average
# 
# Calories: 
# Assuming calories burned per day
# Median - 2134 calories burned. 
# Max - 4900
# Around 2000 calories burned per day for all participants.
# Look for correlations between calories burned and activity level of participants
# 
# Asleep and InBed: 
# Similar mean and median for minutes in bed vs minutes asleep. Pick only one column to focus on. 463 min vs 433 min median comparison. Leads to around 30 minutes for median difference staying in bed after waking up. 

# %% [markdown]
# Share Phase: 

# %% [code] {"execution":{"iopub.status.busy":"2024-03-05T00:59:56.160454Z","iopub.execute_input":"2024-03-05T00:59:56.161923Z","iopub.status.idle":"2024-03-05T00:59:58.974861Z"}}
#Convert date to week of day to compare weekly activity levels
daily_activity <- daily_activity_df
daily_activity$ActivityDay <- wday(daily_activity$ActivityDate, label = TRUE, abbr = )

#Function to create bar graph
create_bar_graph <- function(data, x, y, x_label, y_label, title, fill_color = "steelblue") {
    ggplot(data) + 
    geom_col(mapping = aes_string(x = x, y = y), fill = fill_color) +
    labs(x = x_label, y = y_label, title = title) + 
    theme_minimal() +
    theme(axis.text.x = element_text(angle = 45, hjust = 1))
}

#Total steps vs day of week
print(create_bar_graph(daily_activity, "ActivityDay", "TotalSteps", 'Day of Week', 'Total Steps', 'Total Steps in a Week'))

#Very Active minutes by day of the week
print(create_bar_graph(daily_activity, "ActivityDay", "VeryActiveMinutes", 'Day of Week', 'Very Active Minutes', 'Active Minutes in a Week', fill_color = "firebrick"))

#Plot calories burned by day of week
print(create_bar_graph(daily_activity, "ActivityDay", "Calories", 'Day of Week', 'Calories', 'Calories Burned in a Week', fill_color = "forestgreen"))

#New Column of total active hours
daily_activity <- daily_activity %>%
  mutate(totalactivehours = round((VeryActiveMinutes + FairlyActiveMinutes) / 60, 2))

#Plot calories consumption vs total active hours
print(
    ggplot(daily_activity) + 
      aes(x = totalactivehours, y = Calories) + 
      geom_point(color = 'green') + 
      geom_smooth(method = "lm", color = 'darkgreen') + 
      labs(x = 'Total Active Hours', y = 'Calories Consumption', title = 'Calories Consumption vs Total Activity Hours') + 
      theme_minimal()
)
#Correlation for Calories vs Total Active Hours
cat("Correlation between active hours and calorie consumption: ", cor(daily_activity$Calories, daily_activity$totalactivehours), "\n")

#Load additional datasets
weight_log_df <- read.csv("/kaggle/input/extra-fitbit-datasets/weightLogInfo_merged.csv")
heartrate_log_df <- read.csv("/kaggle/input/extra-fitbit-datasets/heartrate_seconds_merged.csv")

#Check unique IDs
cat("# of Daily Activity Users: ", n_distinct(daily_activity_df$Id), "\n")
cat("# of Sleep Users: ", n_distinct(sleep_day_df$Id), "\n")
cat("# of Weight Log Users: ", n_distinct(weight_log_df$Id), "\n")
cat("# of Heartrate Users: ", n_distinct(heartrate_log_df$Id), "\n")

#Create Pie Chart of usage rates
usage <- data.frame(
  group = c("Activity", "Sleep", "Weight", "Heartrate"),
  value = c(33, 24, 8, 14)
)

print(
  ggplot(usage, aes(x = "", y = value, fill = group)) + 
    geom_bar(stat = "identity", width = 1) + 
    coord_polar("y", start = 0) + 
    theme_void() + 
    labs(title = "Usage Rates of Fitbit Features")
)



# Conclusions so far
cat("Conclusions:\n")
cat("1. Activity and Sleep were the most used features, followed by heartrate and weight.\n")
cat("2. For Bellabeat, focus on tracking daily activity and sleep or improving weight tracking features.\n")
cat("3. Activity level and steps taken peak on Tuesday, with a positive correlation between activity level and calories burned.\n")
cat("4. Consider marketing strategies that stress the importance of monitoring activity and calories, and target advertising towards monitoring activity during work or commutes.\n")
